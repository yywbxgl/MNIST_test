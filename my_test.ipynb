{
 "cells": [
  {
   "cell_type": "code",
   "execution_count": 1,
   "metadata": {},
   "outputs": [],
   "source": [
    "import matplotlib.pyplot\n",
    "import numpy\n",
    "import scipy.special\n",
    "\n",
    "%matplotlib inline\n",
    "\n",
    "class neuralNetwork:\n",
    "    def __init__(self, inputnodes, hiddennodes, outputnodes, learningrate):\n",
    "        self.inodes = inputnodes\n",
    "        self.hnodes = hiddennodes\n",
    "        self.onodes = outputnodes\n",
    "        self.lr = learningrate\n",
    "        \n",
    "        #self.wih = (numpy.random.rand(self.hnodes, self.inodes) - 0.5)\n",
    "        #self.who = (numpy.random.rand(self.onodes, self.hnodes) - 0,5)\n",
    "        self.wih = numpy.random.normal(0.0, pow(self.inodes, -0.5) ,(self.hnodes, self.inodes))\n",
    "        self.who = numpy.random.normal(0.0, pow(self.hnodes, -0.5), (self.onodes, self.hnodes))\n",
    "        #simog激励函数\n",
    "        self.actication_function = lambda x : scipy.special.expit(x)\n",
    "        \n",
    "        pass\n",
    "        \n",
    "        \n",
    "    def train(self, input_list, targets_list):\n",
    "        # 将输入的list转为2维度数组\n",
    "        inputs = numpy.array(input_list, ndmin=2).T \n",
    "        targets = numpy.array(targets_list, ndmin=2).T\n",
    "        \n",
    "        hidden_input = numpy.dot(self.wih, inputs)\n",
    "        hidden_output = self.actication_function(hidden_input)\n",
    "        \n",
    "        final_input = numpy.dot(self.who, hidden_output)\n",
    "        final_output = self.actication_function(final_input)\n",
    "        \n",
    "        output_error = targets - final_output\n",
    "        hidden_error = numpy.dot(self.who.T, output_error)\n",
    "        \n",
    "        temp = output_error * final_output * (1.0 - final_output)\n",
    "        self.who += self.lr*numpy.dot( temp, numpy.transpose(hidden_output))\n",
    "        \n",
    "        temp = hidden_error * hidden_output * (1.0 - hidden_output)\n",
    "        self.wih += self.lr*numpy.dot(temp, numpy.transpose(inputs))\n",
    "        \n",
    "        pass\n",
    "    \n",
    "    # 命名为推理更合适\n",
    "    def query(self, input_list):\n",
    "        inputs = numpy.array(input_list, ndmin=2).T\n",
    "        hidden_input = numpy.dot(self.wih, inputs)\n",
    "        hidden_output = self.actication_function(hidden_input)\n",
    "        \n",
    "        final_input = numpy.dot(self.who, hidden_output)\n",
    "        final_output = self.actication_function(final_input)\n",
    "        \n",
    "        return final_output\n",
    "        \n",
    "    "
   ]
  },
  {
   "cell_type": "code",
   "execution_count": 2,
   "metadata": {},
   "outputs": [],
   "source": [
    "# 创建神经网络\n",
    "input_nodes = 28*28\n",
    "hidden_node =100\n",
    "output_nodes = 10\n",
    "learning_rate = 0.1\n",
    "\n",
    "net = neuralNetwork(input_nodes, hidden_node, output_nodes, learning_rate)"
   ]
  },
  {
   "cell_type": "code",
   "execution_count": 3,
   "metadata": {},
   "outputs": [],
   "source": [
    "# 训练神经网络\n",
    "data_file = open(\"./mnist_train.csv\", 'r')\n",
    "data_list = data_file.readlines()\n",
    "data_file.close()\n",
    "\n",
    "# time表示重复训练的次数，每次训练的初始值不同，\n",
    "time = 1\n",
    "for i in range(time):\n",
    "    for record in data_list: \n",
    "        all_valuse = record.split(',')\n",
    "        #image_array = numpy.asfarray(all_valuse[1:]).reshape((28,28))\n",
    "        #matplotlib.pyplot.imshow(image_array, cmap=\"Greys\", interpolation='None')\n",
    "        inputs = (numpy.asfarray(all_valuse[1:]) / 255.0 * 0.99) + 0.01\n",
    "        traget = numpy.zeros(output_nodes) + 0.01\n",
    "        traget[int(all_valuse[0])] = 0.99\n",
    "        net.train(inputs, traget)\n",
    "    pass\n",
    "pass"
   ]
  },
  {
   "cell_type": "code",
   "execution_count": 4,
   "metadata": {},
   "outputs": [
    {
     "name": "stdout",
     "output_type": "stream",
     "text": [
      "performance =  0.9425\n"
     ]
    }
   ],
   "source": [
    "# 使用训练后的网络进行推理\n",
    "test_data_file = open(\"./mnist_test.csv\", 'r')\n",
    "test_data_list = test_data_file.readlines()\n",
    "test_data_file.close()\n",
    "\n",
    "# 记录正确率\n",
    "scoredcard = []\n",
    "\n",
    "for record in test_data_list: \n",
    "    all_valuse = record.split(',')\n",
    "    correct_lable = int(record[0])\n",
    "\n",
    "    inputs = (numpy.asfarray(all_valuse[1:])/255.0 *0.99) +0.01\n",
    "    outputs = net.query(inputs)\n",
    "    \n",
    "    output_label = numpy.argmax(outputs)\n",
    "    # print(\"input/output is  %d/%d\" % (correct_lable, output_label) )\n",
    "    \n",
    "    if (correct_lable == output_label):\n",
    "        scoredcard.append(1)\n",
    "    else:\n",
    "        scoredcard.append(0)\n",
    "    pass\n",
    "                          \n",
    "pass\n",
    "\n",
    "# print(scoredcard)\n",
    "scorecard_array = numpy.asarray(scoredcard)\n",
    "print (\"performance = \", scorecard_array.sum() / scorecard_array.size)        \n",
    "    "
   ]
  }
 ],
 "metadata": {
  "kernelspec": {
   "display_name": "Python 3",
   "language": "python",
   "name": "python3"
  },
  "language_info": {
   "codemirror_mode": {
    "name": "ipython",
    "version": 3
   },
   "file_extension": ".py",
   "mimetype": "text/x-python",
   "name": "python",
   "nbconvert_exporter": "python",
   "pygments_lexer": "ipython3",
   "version": "3.5.2"
  }
 },
 "nbformat": 4,
 "nbformat_minor": 2
}
